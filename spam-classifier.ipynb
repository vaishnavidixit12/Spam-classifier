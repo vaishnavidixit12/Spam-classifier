{
 "cells": [
  {
   "cell_type": "code",
   "execution_count": 1,
   "id": "f65968f4",
   "metadata": {
    "_cell_guid": "b1076dfc-b9ad-4769-8c92-a6c4dae69d19",
    "_kg_hide-input": true,
    "_kg_hide-output": true,
    "_uuid": "8f2839f25d086af736a60e9eeb907d3b93b6e0e5",
    "execution": {
     "iopub.execute_input": "2023-06-06T18:35:34.956856Z",
     "iopub.status.busy": "2023-06-06T18:35:34.955878Z",
     "iopub.status.idle": "2023-06-06T18:35:34.976785Z",
     "shell.execute_reply": "2023-06-06T18:35:34.975515Z"
    },
    "papermill": {
     "duration": 0.042634,
     "end_time": "2023-06-06T18:35:34.979628",
     "exception": false,
     "start_time": "2023-06-06T18:35:34.936994",
     "status": "completed"
    },
    "tags": []
   },
   "outputs": [
    {
     "name": "stdout",
     "output_type": "stream",
     "text": [
      "/kaggle/input/sms-spam-collection-dataset/spam.csv\n"
     ]
    }
   ],
   "source": [
    "import os\n",
    "for dirname, _, filenames in os.walk('/kaggle/input'):\n",
    "    for filename in filenames:\n",
    "        print(os.path.join(dirname, filename))"
   ]
  },
  {
   "cell_type": "markdown",
   "id": "cf676c2e",
   "metadata": {
    "papermill": {
     "duration": 0.015413,
     "end_time": "2023-06-06T18:35:35.011239",
     "exception": false,
     "start_time": "2023-06-06T18:35:34.995826",
     "status": "completed"
    },
    "tags": []
   },
   "source": [
    "<h3>In this notebook we would be conducting EDA, selecting classifier model and saving the model for deployment</h3>"
   ]
  },
  {
   "cell_type": "code",
   "execution_count": 2,
   "id": "7afc3f97",
   "metadata": {
    "_kg_hide-output": true,
    "execution": {
     "iopub.execute_input": "2023-06-06T18:35:35.046819Z",
     "iopub.status.busy": "2023-06-06T18:35:35.046045Z",
     "iopub.status.idle": "2023-06-06T18:35:37.136842Z",
     "shell.execute_reply": "2023-06-06T18:35:37.135789Z"
    },
    "papermill": {
     "duration": 2.111171,
     "end_time": "2023-06-06T18:35:37.139792",
     "exception": false,
     "start_time": "2023-06-06T18:35:35.028621",
     "status": "completed"
    },
    "tags": []
   },
   "outputs": [],
   "source": [
    "#importing required libraries\n",
    "\n",
    "import numpy as np \n",
    "import pandas as pd \n",
    "import matplotlib.pyplot as plt\n",
    "import seaborn as sns\n",
    "import pickle\n",
    "\n",
    "from sklearn.preprocessing import LabelEncoder, MinMaxScaler\n",
    "from sklearn.feature_extraction.text import CountVectorizer, TfidfVectorizer\n",
    "from sklearn.model_selection import train_test_split\n",
    "from sklearn.naive_bayes import GaussianNB, MultinomialNB, BernoulliNB\n",
    "from sklearn.metrics import accuracy_score, confusion_matrix, precision_score\n",
    "from sklearn.ensemble import VotingClassifier\n",
    "tfidf = TfidfVectorizer(max_features=3000)\n",
    "cv = CountVectorizer()\n",
    "\n",
    "import nltk\n",
    "import string\n",
    "from nltk.stem.porter import PorterStemmer\n",
    "from nltk.corpus import stopwords\n",
    "from wordcloud import WordCloud\n",
    "from collections import Counter\n",
    "\n",
    "string.punctuation\n",
    "ps = PorterStemmer()\n"
   ]
  },
  {
   "cell_type": "code",
   "execution_count": 3,
   "id": "3c1e864b",
   "metadata": {
    "execution": {
     "iopub.execute_input": "2023-06-06T18:35:37.173591Z",
     "iopub.status.busy": "2023-06-06T18:35:37.172554Z",
     "iopub.status.idle": "2023-06-06T18:35:37.231202Z",
     "shell.execute_reply": "2023-06-06T18:35:37.229974Z"
    },
    "papermill": {
     "duration": 0.078964,
     "end_time": "2023-06-06T18:35:37.234375",
     "exception": false,
     "start_time": "2023-06-06T18:35:37.155411",
     "status": "completed"
    },
    "tags": []
   },
   "outputs": [
    {
     "data": {
      "text/html": [
       "<div>\n",
       "<style scoped>\n",
       "    .dataframe tbody tr th:only-of-type {\n",
       "        vertical-align: middle;\n",
       "    }\n",
       "\n",
       "    .dataframe tbody tr th {\n",
       "        vertical-align: top;\n",
       "    }\n",
       "\n",
       "    .dataframe thead th {\n",
       "        text-align: right;\n",
       "    }\n",
       "</style>\n",
       "<table border=\"1\" class=\"dataframe\">\n",
       "  <thead>\n",
       "    <tr style=\"text-align: right;\">\n",
       "      <th></th>\n",
       "      <th>v1</th>\n",
       "      <th>v2</th>\n",
       "      <th>Unnamed: 2</th>\n",
       "      <th>Unnamed: 3</th>\n",
       "      <th>Unnamed: 4</th>\n",
       "    </tr>\n",
       "  </thead>\n",
       "  <tbody>\n",
       "    <tr>\n",
       "      <th>0</th>\n",
       "      <td>ham</td>\n",
       "      <td>Go until jurong point, crazy.. Available only ...</td>\n",
       "      <td>NaN</td>\n",
       "      <td>NaN</td>\n",
       "      <td>NaN</td>\n",
       "    </tr>\n",
       "    <tr>\n",
       "      <th>1</th>\n",
       "      <td>ham</td>\n",
       "      <td>Ok lar... Joking wif u oni...</td>\n",
       "      <td>NaN</td>\n",
       "      <td>NaN</td>\n",
       "      <td>NaN</td>\n",
       "    </tr>\n",
       "    <tr>\n",
       "      <th>2</th>\n",
       "      <td>spam</td>\n",
       "      <td>Free entry in 2 a wkly comp to win FA Cup fina...</td>\n",
       "      <td>NaN</td>\n",
       "      <td>NaN</td>\n",
       "      <td>NaN</td>\n",
       "    </tr>\n",
       "  </tbody>\n",
       "</table>\n",
       "</div>"
      ],
      "text/plain": [
       "     v1                                                 v2 Unnamed: 2  \\\n",
       "0   ham  Go until jurong point, crazy.. Available only ...        NaN   \n",
       "1   ham                      Ok lar... Joking wif u oni...        NaN   \n",
       "2  spam  Free entry in 2 a wkly comp to win FA Cup fina...        NaN   \n",
       "\n",
       "  Unnamed: 3 Unnamed: 4  \n",
       "0        NaN        NaN  \n",
       "1        NaN        NaN  \n",
       "2        NaN        NaN  "
      ]
     },
     "execution_count": 3,
     "metadata": {},
     "output_type": "execute_result"
    }
   ],
   "source": [
    "df=pd.read_csv(\"../input/sms-spam-collection-dataset/spam.csv\",encoding =  'ISO-8859-1')\n",
    "df.head(3)\n",
    "\n",
    "#ISO 8859-1 is a single-byte encoding that can represent the first 256 Unicode characters"
   ]
  },
  {
   "cell_type": "code",
   "execution_count": 4,
   "id": "05845af0",
   "metadata": {
    "execution": {
     "iopub.execute_input": "2023-06-06T18:35:37.268764Z",
     "iopub.status.busy": "2023-06-06T18:35:37.268298Z",
     "iopub.status.idle": "2023-06-06T18:35:37.288419Z",
     "shell.execute_reply": "2023-06-06T18:35:37.287095Z"
    },
    "papermill": {
     "duration": 0.040173,
     "end_time": "2023-06-06T18:35:37.290976",
     "exception": false,
     "start_time": "2023-06-06T18:35:37.250803",
     "status": "completed"
    },
    "tags": []
   },
   "outputs": [
    {
     "name": "stdout",
     "output_type": "stream",
     "text": [
      "shape of the data is,  (5572, 5) \n",
      "\n",
      " Number of duplicate data is,  403\n"
     ]
    }
   ],
   "source": [
    "print('shape of the data is, ', df.shape,'\\n\\n', 'Number of duplicate data is, ', df.duplicated().sum())\n"
   ]
  },
  {
   "cell_type": "code",
   "execution_count": 5,
   "id": "808b0ed1",
   "metadata": {
    "execution": {
     "iopub.execute_input": "2023-06-06T18:35:37.325430Z",
     "iopub.status.busy": "2023-06-06T18:35:37.324963Z",
     "iopub.status.idle": "2023-06-06T18:35:37.345524Z",
     "shell.execute_reply": "2023-06-06T18:35:37.344387Z"
    },
    "papermill": {
     "duration": 0.040836,
     "end_time": "2023-06-06T18:35:37.348015",
     "exception": false,
     "start_time": "2023-06-06T18:35:37.307179",
     "status": "completed"
    },
    "tags": []
   },
   "outputs": [
    {
     "name": "stdout",
     "output_type": "stream",
     "text": [
      "<class 'pandas.core.frame.DataFrame'>\n",
      "RangeIndex: 5572 entries, 0 to 5571\n",
      "Data columns (total 5 columns):\n",
      " #   Column      Non-Null Count  Dtype \n",
      "---  ------      --------------  ----- \n",
      " 0   v1          5572 non-null   object\n",
      " 1   v2          5572 non-null   object\n",
      " 2   Unnamed: 2  50 non-null     object\n",
      " 3   Unnamed: 3  12 non-null     object\n",
      " 4   Unnamed: 4  6 non-null      object\n",
      "dtypes: object(5)\n",
      "memory usage: 217.8+ KB\n"
     ]
    }
   ],
   "source": [
    "df.info()"
   ]
  },
  {
   "cell_type": "code",
   "execution_count": 6,
   "id": "c885c9a9",
   "metadata": {
    "execution": {
     "iopub.execute_input": "2023-06-06T18:35:37.382836Z",
     "iopub.status.busy": "2023-06-06T18:35:37.382403Z",
     "iopub.status.idle": "2023-06-06T18:35:37.388861Z",
     "shell.execute_reply": "2023-06-06T18:35:37.387706Z"
    },
    "papermill": {
     "duration": 0.027311,
     "end_time": "2023-06-06T18:35:37.391541",
     "exception": false,
     "start_time": "2023-06-06T18:35:37.364230",
     "status": "completed"
    },
    "tags": []
   },
   "outputs": [],
   "source": [
    "#let's check validity of each given column \n",
    "\n",
    "#since all the last three columns almost no data we would drop them\n",
    "\n",
    "df.drop(columns=['Unnamed: 2','Unnamed: 3','Unnamed: 4'], inplace=True)"
   ]
  },
  {
   "cell_type": "code",
   "execution_count": 7,
   "id": "d06b064d",
   "metadata": {
    "execution": {
     "iopub.execute_input": "2023-06-06T18:35:37.426332Z",
     "iopub.status.busy": "2023-06-06T18:35:37.425918Z",
     "iopub.status.idle": "2023-06-06T18:35:37.439880Z",
     "shell.execute_reply": "2023-06-06T18:35:37.438612Z"
    },
    "papermill": {
     "duration": 0.034592,
     "end_time": "2023-06-06T18:35:37.442517",
     "exception": false,
     "start_time": "2023-06-06T18:35:37.407925",
     "status": "completed"
    },
    "tags": []
   },
   "outputs": [
    {
     "data": {
      "text/html": [
       "<div>\n",
       "<style scoped>\n",
       "    .dataframe tbody tr th:only-of-type {\n",
       "        vertical-align: middle;\n",
       "    }\n",
       "\n",
       "    .dataframe tbody tr th {\n",
       "        vertical-align: top;\n",
       "    }\n",
       "\n",
       "    .dataframe thead th {\n",
       "        text-align: right;\n",
       "    }\n",
       "</style>\n",
       "<table border=\"1\" class=\"dataframe\">\n",
       "  <thead>\n",
       "    <tr style=\"text-align: right;\">\n",
       "      <th></th>\n",
       "      <th>v1</th>\n",
       "      <th>v2</th>\n",
       "    </tr>\n",
       "  </thead>\n",
       "  <tbody>\n",
       "    <tr>\n",
       "      <th>4715</th>\n",
       "      <td>ham</td>\n",
       "      <td>Hey. What happened? U switch off ur cell d who...</td>\n",
       "    </tr>\n",
       "    <tr>\n",
       "      <th>357</th>\n",
       "      <td>spam</td>\n",
       "      <td>Ur cash-balance is currently 500 pounds - to m...</td>\n",
       "    </tr>\n",
       "    <tr>\n",
       "      <th>2969</th>\n",
       "      <td>ham</td>\n",
       "      <td>U should make a fb list</td>\n",
       "    </tr>\n",
       "    <tr>\n",
       "      <th>3406</th>\n",
       "      <td>ham</td>\n",
       "      <td>Beautiful Truth against Gravity.. Read careful...</td>\n",
       "    </tr>\n",
       "    <tr>\n",
       "      <th>3077</th>\n",
       "      <td>ham</td>\n",
       "      <td>Okay but i thought you were the expert</td>\n",
       "    </tr>\n",
       "  </tbody>\n",
       "</table>\n",
       "</div>"
      ],
      "text/plain": [
       "        v1                                                 v2\n",
       "4715   ham  Hey. What happened? U switch off ur cell d who...\n",
       "357   spam  Ur cash-balance is currently 500 pounds - to m...\n",
       "2969   ham                            U should make a fb list\n",
       "3406   ham  Beautiful Truth against Gravity.. Read careful...\n",
       "3077   ham             Okay but i thought you were the expert"
      ]
     },
     "execution_count": 7,
     "metadata": {},
     "output_type": "execute_result"
    }
   ],
   "source": [
    "df.sample(5)"
   ]
  },
  {
   "cell_type": "code",
   "execution_count": 8,
   "id": "b393ae1d",
   "metadata": {
    "execution": {
     "iopub.execute_input": "2023-06-06T18:35:37.478187Z",
     "iopub.status.busy": "2023-06-06T18:35:37.477299Z",
     "iopub.status.idle": "2023-06-06T18:35:37.484508Z",
     "shell.execute_reply": "2023-06-06T18:35:37.483250Z"
    },
    "papermill": {
     "duration": 0.027731,
     "end_time": "2023-06-06T18:35:37.486900",
     "exception": false,
     "start_time": "2023-06-06T18:35:37.459169",
     "status": "completed"
    },
    "tags": []
   },
   "outputs": [],
   "source": [
    "#lets rename our columns with correct attribute name\n",
    "df.rename(columns={'v1': 'target', 'v2': 'sms'},inplace = True)"
   ]
  },
  {
   "cell_type": "code",
   "execution_count": 9,
   "id": "a5da561a",
   "metadata": {
    "execution": {
     "iopub.execute_input": "2023-06-06T18:35:37.521967Z",
     "iopub.status.busy": "2023-06-06T18:35:37.521518Z",
     "iopub.status.idle": "2023-06-06T18:35:37.530234Z",
     "shell.execute_reply": "2023-06-06T18:35:37.528925Z"
    },
    "papermill": {
     "duration": 0.029467,
     "end_time": "2023-06-06T18:35:37.532785",
     "exception": false,
     "start_time": "2023-06-06T18:35:37.503318",
     "status": "completed"
    },
    "tags": []
   },
   "outputs": [],
   "source": [
    "encoder = LabelEncoder()\n",
    "df['target'] = encoder.fit_transform(df['target'])"
   ]
  },
  {
   "cell_type": "code",
   "execution_count": 10,
   "id": "a55cd6f1",
   "metadata": {
    "execution": {
     "iopub.execute_input": "2023-06-06T18:35:37.568962Z",
     "iopub.status.busy": "2023-06-06T18:35:37.567828Z",
     "iopub.status.idle": "2023-06-06T18:35:37.580873Z",
     "shell.execute_reply": "2023-06-06T18:35:37.579599Z"
    },
    "papermill": {
     "duration": 0.034808,
     "end_time": "2023-06-06T18:35:37.584398",
     "exception": false,
     "start_time": "2023-06-06T18:35:37.549590",
     "status": "completed"
    },
    "tags": []
   },
   "outputs": [],
   "source": [
    "#lets remove duplicate data availabale\n",
    "df= df.drop_duplicates(keep = 'first')"
   ]
  },
  {
   "cell_type": "code",
   "execution_count": 11,
   "id": "5fea30a7",
   "metadata": {
    "execution": {
     "iopub.execute_input": "2023-06-06T18:35:37.619806Z",
     "iopub.status.busy": "2023-06-06T18:35:37.619299Z",
     "iopub.status.idle": "2023-06-06T18:35:37.635968Z",
     "shell.execute_reply": "2023-06-06T18:35:37.634823Z"
    },
    "papermill": {
     "duration": 0.037512,
     "end_time": "2023-06-06T18:35:37.638814",
     "exception": false,
     "start_time": "2023-06-06T18:35:37.601302",
     "status": "completed"
    },
    "tags": []
   },
   "outputs": [
    {
     "name": "stdout",
     "output_type": "stream",
     "text": [
      "shape of the data is,  (5169, 2) \n",
      "\n",
      " Number of duplicate data is,  0\n",
      "total sum of null values\n",
      "\n"
     ]
    },
    {
     "data": {
      "text/plain": [
       "target    0\n",
       "sms       0\n",
       "dtype: int64"
      ]
     },
     "execution_count": 11,
     "metadata": {},
     "output_type": "execute_result"
    }
   ],
   "source": [
    "#after cleaning the data\n",
    "print('shape of the data is, ', df.shape,'\\n\\n','Number of duplicate data is, ', df.duplicated().sum())\n",
    "\n",
    "print('total sum of null values\\n')\n",
    "df.isnull().sum()"
   ]
  },
  {
   "cell_type": "markdown",
   "id": "f4d05f50",
   "metadata": {
    "papermill": {
     "duration": 0.016324,
     "end_time": "2023-06-06T18:35:37.671633",
     "exception": false,
     "start_time": "2023-06-06T18:35:37.655309",
     "status": "completed"
    },
    "tags": []
   },
   "source": [
    "<h3>EDA on the Data</h3>"
   ]
  },
  {
   "cell_type": "code",
   "execution_count": 12,
   "id": "578ce613",
   "metadata": {
    "_kg_hide-input": false,
    "execution": {
     "iopub.execute_input": "2023-06-06T18:35:37.706991Z",
     "iopub.status.busy": "2023-06-06T18:35:37.706271Z",
     "iopub.status.idle": "2023-06-06T18:35:37.881764Z",
     "shell.execute_reply": "2023-06-06T18:35:37.879938Z"
    },
    "papermill": {
     "duration": 0.198699,
     "end_time": "2023-06-06T18:35:37.886712",
     "exception": false,
     "start_time": "2023-06-06T18:35:37.688013",
     "status": "completed"
    },
    "tags": []
   },
   "outputs": [
    {
     "data": {
      "image/png": "[encoded data removed]",
      "text/plain": [
       "<Figure size 864x432 with 1 Axes>"
      ]
     },
     "metadata": {},
     "output_type": "display_data"
    }
   ],
   "source": [
    "#let's see the count of data in the target column in a pie chart\n",
    "plt.figure(figsize=(12,6))\n",
    "plt.pie(df['target'].value_counts(), labels=['Not Spam', \"Spam\"], autopct ='%0.2f')\n",
    "plt.show() "
   ]
  },
  {
   "cell_type": "markdown",
   "id": "07017495",
   "metadata": {
    "papermill": {
     "duration": 0.023366,
     "end_time": "2023-06-06T18:35:37.945704",
     "exception": false,
     "start_time": "2023-06-06T18:35:37.922338",
     "status": "completed"
    },
    "tags": []
   },
   "source": [
    "We could notice here that the target coulmn is imbalanced"
   ]
  },
  {
   "cell_type": "code",
   "execution_count": 13,
   "id": "79a1c248",
   "metadata": {
    "_kg_hide-input": true,
    "_kg_hide-output": true,
    "execution": {
     "iopub.execute_input": "2023-06-06T18:35:37.982245Z",
     "iopub.status.busy": "2023-06-06T18:35:37.981520Z",
     "iopub.status.idle": "2023-06-06T18:35:38.161486Z",
     "shell.execute_reply": "2023-06-06T18:35:38.160220Z"
    },
    "papermill": {
     "duration": 0.20156,
     "end_time": "2023-06-06T18:35:38.164260",
     "exception": false,
     "start_time": "2023-06-06T18:35:37.962700",
     "status": "completed"
    },
    "tags": []
   },
   "outputs": [
    {
     "name": "stderr",
     "output_type": "stream",
     "text": [
      "[nltk_data] Downloading package punkt to /usr/share/nltk_data...\n",
      "[nltk_data]   Package punkt is already up-to-date!\n"
     ]
    },
    {
     "data": {
      "text/plain": [
       "True"
      ]
     },
     "execution_count": 13,
     "metadata": {},
     "output_type": "execute_result"
    }
   ],
   "source": [
    "nltk.download('punkt')"
   ]
  },
  {
   "cell_type": "markdown",
   "id": "06057b2d",
   "metadata": {
    "papermill": {
     "duration": 0.01722,
     "end_time": "2023-06-06T18:35:38.198780",
     "exception": false,
     "start_time": "2023-06-06T18:35:38.181560",
     "status": "completed"
    },
    "tags": []
   },
   "source": [
    "adding Columns to learn more about the text len and structure"
   ]
  },
  {
   "cell_type": "code",
   "execution_count": 14,
   "id": "951cfadf",
   "metadata": {
    "_kg_hide-input": true,
    "_kg_hide-output": true,
    "execution": {
     "iopub.execute_input": "2023-06-06T18:35:38.235851Z",
     "iopub.status.busy": "2023-06-06T18:35:38.235074Z",
     "iopub.status.idle": "2023-06-06T18:35:38.251275Z",
     "shell.execute_reply": "2023-06-06T18:35:38.249943Z"
    },
    "papermill": {
     "duration": 0.037772,
     "end_time": "2023-06-06T18:35:38.253926",
     "exception": false,
     "start_time": "2023-06-06T18:35:38.216154",
     "status": "completed"
    },
    "tags": []
   },
   "outputs": [
    {
     "data": {
      "text/html": [
       "<div>\n",
       "<style scoped>\n",
       "    .dataframe tbody tr th:only-of-type {\n",
       "        vertical-align: middle;\n",
       "    }\n",
       "\n",
       "    .dataframe tbody tr th {\n",
       "        vertical-align: top;\n",
       "    }\n",
       "\n",
       "    .dataframe thead th {\n",
       "        text-align: right;\n",
       "    }\n",
       "</style>\n",
       "<table border=\"1\" class=\"dataframe\">\n",
       "  <thead>\n",
       "    <tr style=\"text-align: right;\">\n",
       "      <th></th>\n",
       "      <th>target</th>\n",
       "      <th>sms</th>\n",
       "      <th>character_len</th>\n",
       "    </tr>\n",
       "  </thead>\n",
       "  <tbody>\n",
       "    <tr>\n",
       "      <th>0</th>\n",
       "      <td>0</td>\n",
       "      <td>Go until jurong point, crazy.. Available only ...</td>\n",
       "      <td>111</td>\n",
       "    </tr>\n",
       "    <tr>\n",
       "      <th>1</th>\n",
       "      <td>0</td>\n",
       "      <td>Ok lar... Joking wif u oni...</td>\n",
       "      <td>29</td>\n",
       "    </tr>\n",
       "    <tr>\n",
       "      <th>2</th>\n",
       "      <td>1</td>\n",
       "      <td>Free entry in 2 a wkly comp to win FA Cup fina...</td>\n",
       "      <td>155</td>\n",
       "    </tr>\n",
       "  </tbody>\n",
       "</table>\n",
       "</div>"
      ],
      "text/plain": [
       "   target                                                sms  character_len\n",
       "0       0  Go until jurong point, crazy.. Available only ...            111\n",
       "1       0                      Ok lar... Joking wif u oni...             29\n",
       "2       1  Free entry in 2 a wkly comp to win FA Cup fina...            155"
      ]
     },
     "execution_count": 14,
     "metadata": {},
     "output_type": "execute_result"
    }
   ],
   "source": [
    "#inserting column with the len of each respective text msg - number of characters present\n",
    "df['character_len']= df['sms'].apply(len)\n",
    "df.head(3)"
   ]
  },
  {
   "cell_type": "code",
   "execution_count": 15,
   "id": "4e9247c8",
   "metadata": {
    "execution": {
     "iopub.execute_input": "2023-06-06T18:35:38.291688Z",
     "iopub.status.busy": "2023-06-06T18:35:38.290982Z",
     "iopub.status.idle": "2023-06-06T18:35:40.103261Z",
     "shell.execute_reply": "2023-06-06T18:35:40.102028Z"
    },
    "papermill": {
     "duration": 1.834173,
     "end_time": "2023-06-06T18:35:40.105971",
     "exception": false,
     "start_time": "2023-06-06T18:35:38.271798",
     "status": "completed"
    },
    "tags": []
   },
   "outputs": [
    {
     "data": {
      "text/html": [
       "<div>\n",
       "<style scoped>\n",
       "    .dataframe tbody tr th:only-of-type {\n",
       "        vertical-align: middle;\n",
       "    }\n",
       "\n",
       "    .dataframe tbody tr th {\n",
       "        vertical-align: top;\n",
       "    }\n",
       "\n",
       "    .dataframe thead th {\n",
       "        text-align: right;\n",
       "    }\n",
       "</style>\n",
       "<table border=\"1\" class=\"dataframe\">\n",
       "  <thead>\n",
       "    <tr style=\"text-align: right;\">\n",
       "      <th></th>\n",
       "      <th>target</th>\n",
       "      <th>sms</th>\n",
       "      <th>character_len</th>\n",
       "      <th>word_len</th>\n",
       "    </tr>\n",
       "  </thead>\n",
       "  <tbody>\n",
       "    <tr>\n",
       "      <th>0</th>\n",
       "      <td>0</td>\n",
       "      <td>Go until jurong point, crazy.. Available only ...</td>\n",
       "      <td>111</td>\n",
       "      <td>24</td>\n",
       "    </tr>\n",
       "    <tr>\n",
       "      <th>1</th>\n",
       "      <td>0</td>\n",
       "      <td>Ok lar... Joking wif u oni...</td>\n",
       "      <td>29</td>\n",
       "      <td>8</td>\n",
       "    </tr>\n",
       "    <tr>\n",
       "      <th>2</th>\n",
       "      <td>1</td>\n",
       "      <td>Free entry in 2 a wkly comp to win FA Cup fina...</td>\n",
       "      <td>155</td>\n",
       "      <td>37</td>\n",
       "    </tr>\n",
       "  </tbody>\n",
       "</table>\n",
       "</div>"
      ],
      "text/plain": [
       "   target                                                sms  character_len  \\\n",
       "0       0  Go until jurong point, crazy.. Available only ...            111   \n",
       "1       0                      Ok lar... Joking wif u oni...             29   \n",
       "2       1  Free entry in 2 a wkly comp to win FA Cup fina...            155   \n",
       "\n",
       "   word_len  \n",
       "0        24  \n",
       "1         8  \n",
       "2        37  "
      ]
     },
     "execution_count": 15,
     "metadata": {},
     "output_type": "execute_result"
    }
   ],
   "source": [
    "#getting the number of words in each sms into a new column\n",
    "df['word_len'] = df['sms'].apply(lambda x:len(nltk.word_tokenize(x)))\n",
    "df.head(3)"
   ]
  },
  {
   "cell_type": "code",
   "execution_count": 16,
   "id": "fac147c5",
   "metadata": {
    "execution": {
     "iopub.execute_input": "2023-06-06T18:35:40.144873Z",
     "iopub.status.busy": "2023-06-06T18:35:40.144049Z",
     "iopub.status.idle": "2023-06-06T18:35:40.541566Z",
     "shell.execute_reply": "2023-06-06T18:35:40.540529Z"
    },
    "papermill": {
     "duration": 0.420317,
     "end_time": "2023-06-06T18:35:40.544188",
     "exception": false,
     "start_time": "2023-06-06T18:35:40.123871",
     "status": "completed"
    },
    "tags": []
   },
   "outputs": [
    {
     "data": {
      "text/html": [
       "<div>\n",
       "<style scoped>\n",
       "    .dataframe tbody tr th:only-of-type {\n",
       "        vertical-align: middle;\n",
       "    }\n",
       "\n",
       "    .dataframe tbody tr th {\n",
       "        vertical-align: top;\n",
       "    }\n",
       "\n",
       "    .dataframe thead th {\n",
       "        text-align: right;\n",
       "    }\n",
       "</style>\n",
       "<table border=\"1\" class=\"dataframe\">\n",
       "  <thead>\n",
       "    <tr style=\"text-align: right;\">\n",
       "      <th></th>\n",
       "      <th>target</th>\n",
       "      <th>sms</th>\n",
       "      <th>character_len</th>\n",
       "      <th>word_len</th>\n",
       "      <th>sent_len</th>\n",
       "    </tr>\n",
       "  </thead>\n",
       "  <tbody>\n",
       "    <tr>\n",
       "      <th>0</th>\n",
       "      <td>0</td>\n",
       "      <td>Go until jurong point, crazy.. Available only ...</td>\n",
       "      <td>111</td>\n",
       "      <td>24</td>\n",
       "      <td>2</td>\n",
       "    </tr>\n",
       "    <tr>\n",
       "      <th>1</th>\n",
       "      <td>0</td>\n",
       "      <td>Ok lar... Joking wif u oni...</td>\n",
       "      <td>29</td>\n",
       "      <td>8</td>\n",
       "      <td>2</td>\n",
       "    </tr>\n",
       "    <tr>\n",
       "      <th>2</th>\n",
       "      <td>1</td>\n",
       "      <td>Free entry in 2 a wkly comp to win FA Cup fina...</td>\n",
       "      <td>155</td>\n",
       "      <td>37</td>\n",
       "      <td>2</td>\n",
       "    </tr>\n",
       "  </tbody>\n",
       "</table>\n",
       "</div>"
      ],
      "text/plain": [
       "   target                                                sms  character_len  \\\n",
       "0       0  Go until jurong point, crazy.. Available only ...            111   \n",
       "1       0                      Ok lar... Joking wif u oni...             29   \n",
       "2       1  Free entry in 2 a wkly comp to win FA Cup fina...            155   \n",
       "\n",
       "   word_len  sent_len  \n",
       "0        24         2  \n",
       "1         8         2  \n",
       "2        37         2  "
      ]
     },
     "execution_count": 16,
     "metadata": {},
     "output_type": "execute_result"
    }
   ],
   "source": [
    "#getting the number of sentences in each sms into a new column\n",
    "df['sent_len'] = df['sms'].apply(lambda x:len(nltk.sent_tokenize(x)))\n",
    "df.head(3)"
   ]
  },
  {
   "cell_type": "code",
   "execution_count": 17,
   "id": "3df0ce51",
   "metadata": {
    "execution": {
     "iopub.execute_input": "2023-06-06T18:35:40.582633Z",
     "iopub.status.busy": "2023-06-06T18:35:40.581897Z",
     "iopub.status.idle": "2023-06-06T18:35:40.612398Z",
     "shell.execute_reply": "2023-06-06T18:35:40.610934Z"
    },
    "papermill": {
     "duration": 0.052969,
     "end_time": "2023-06-06T18:35:40.615122",
     "exception": false,
     "start_time": "2023-06-06T18:35:40.562153",
     "status": "completed"
    },
    "tags": []
   },
   "outputs": [
    {
     "data": {
      "text/html": [
       "<div>\n",
       "<style scoped>\n",
       "    .dataframe tbody tr th:only-of-type {\n",
       "        vertical-align: middle;\n",
       "    }\n",
       "\n",
       "    .dataframe tbody tr th {\n",
       "        vertical-align: top;\n",
       "    }\n",
       "\n",
       "    .dataframe thead th {\n",
       "        text-align: right;\n",
       "    }\n",
       "</style>\n",
       "<table border=\"1\" class=\"dataframe\">\n",
       "  <thead>\n",
       "    <tr style=\"text-align: right;\">\n",
       "      <th></th>\n",
       "      <th>target</th>\n",
       "      <th>character_len</th>\n",
       "      <th>word_len</th>\n",
       "      <th>sent_len</th>\n",
       "    </tr>\n",
       "  </thead>\n",
       "  <tbody>\n",
       "    <tr>\n",
       "      <th>count</th>\n",
       "      <td>5169.000000</td>\n",
       "      <td>5169.000000</td>\n",
       "      <td>5169.000000</td>\n",
       "      <td>5169.000000</td>\n",
       "    </tr>\n",
       "    <tr>\n",
       "      <th>mean</th>\n",
       "      <td>0.126330</td>\n",
       "      <td>78.977945</td>\n",
       "      <td>18.453279</td>\n",
       "      <td>1.947185</td>\n",
       "    </tr>\n",
       "    <tr>\n",
       "      <th>std</th>\n",
       "      <td>0.332253</td>\n",
       "      <td>58.236293</td>\n",
       "      <td>13.324793</td>\n",
       "      <td>1.362406</td>\n",
       "    </tr>\n",
       "    <tr>\n",
       "      <th>min</th>\n",
       "      <td>0.000000</td>\n",
       "      <td>2.000000</td>\n",
       "      <td>1.000000</td>\n",
       "      <td>1.000000</td>\n",
       "    </tr>\n",
       "    <tr>\n",
       "      <th>25%</th>\n",
       "      <td>0.000000</td>\n",
       "      <td>36.000000</td>\n",
       "      <td>9.000000</td>\n",
       "      <td>1.000000</td>\n",
       "    </tr>\n",
       "    <tr>\n",
       "      <th>50%</th>\n",
       "      <td>0.000000</td>\n",
       "      <td>60.000000</td>\n",
       "      <td>15.000000</td>\n",
       "      <td>1.000000</td>\n",
       "    </tr>\n",
       "    <tr>\n",
       "      <th>75%</th>\n",
       "      <td>0.000000</td>\n",
       "      <td>117.000000</td>\n",
       "      <td>26.000000</td>\n",
       "      <td>2.000000</td>\n",
       "    </tr>\n",
       "    <tr>\n",
       "      <th>max</th>\n",
       "      <td>1.000000</td>\n",
       "      <td>910.000000</td>\n",
       "      <td>220.000000</td>\n",
       "      <td>28.000000</td>\n",
       "    </tr>\n",
       "  </tbody>\n",
       "</table>\n",
       "</div>"
      ],
      "text/plain": [
       "            target  character_len     word_len     sent_len\n",
       "count  5169.000000    5169.000000  5169.000000  5169.000000\n",
       "mean      0.126330      78.977945    18.453279     1.947185\n",
       "std       0.332253      58.236293    13.324793     1.362406\n",
       "min       0.000000       2.000000     1.000000     1.000000\n",
       "25%       0.000000      36.000000     9.000000     1.000000\n",
       "50%       0.000000      60.000000    15.000000     1.000000\n",
       "75%       0.000000     117.000000    26.000000     2.000000\n",
       "max       1.000000     910.000000   220.000000    28.000000"
      ]
     },
     "execution_count": 17,
     "metadata": {},
     "output_type": "execute_result"
    }
   ],
   "source": [
    "df.describe()"
   ]
  },
  {
   "cell_type": "markdown",
   "id": "bd516931",
   "metadata": {
    "papermill": {
     "duration": 0.018129,
     "end_time": "2023-06-06T18:35:40.652220",
     "exception": false,
     "start_time": "2023-06-06T18:35:40.634091",
     "status": "completed"
    },
    "tags": []
   },
   "source": [
    "the ABOVE table describes the average characters, words and sentences used in general in a sms according to our data"
   ]
  },
  {
   "cell_type": "code",
   "execution_count": 18,
   "id": "c91b7311",
   "metadata": {
    "execution": {
     "iopub.execute_input": "2023-06-06T18:35:40.691411Z",
     "iopub.status.busy": "2023-06-06T18:35:40.690914Z",
     "iopub.status.idle": "2023-06-06T18:35:40.720967Z",
     "shell.execute_reply": "2023-06-06T18:35:40.719659Z"
    },
    "papermill": {
     "duration": 0.053105,
     "end_time": "2023-06-06T18:35:40.724278",
     "exception": false,
     "start_time": "2023-06-06T18:35:40.671173",
     "status": "completed"
    },
    "tags": []
   },
   "outputs": [
    {
     "data": {
      "text/html": [
       "<div>\n",
       "<style scoped>\n",
       "    .dataframe tbody tr th:only-of-type {\n",
       "        vertical-align: middle;\n",
       "    }\n",
       "\n",
       "    .dataframe tbody tr th {\n",
       "        vertical-align: top;\n",
       "    }\n",
       "\n",
       "    .dataframe thead th {\n",
       "        text-align: right;\n",
       "    }\n",
       "</style>\n",
       "<table border=\"1\" class=\"dataframe\">\n",
       "  <thead>\n",
       "    <tr style=\"text-align: right;\">\n",
       "      <th></th>\n",
       "      <th>word_len</th>\n",
       "      <th>sent_len</th>\n",
       "      <th>character_len</th>\n",
       "    </tr>\n",
       "  </thead>\n",
       "  <tbody>\n",
       "    <tr>\n",
       "      <th>count</th>\n",
       "      <td>4516.000000</td>\n",
       "      <td>4516.000000</td>\n",
       "      <td>4516.000000</td>\n",
       "    </tr>\n",
       "    <tr>\n",
       "      <th>mean</th>\n",
       "      <td>17.120903</td>\n",
       "      <td>1.799601</td>\n",
       "      <td>70.459256</td>\n",
       "    </tr>\n",
       "    <tr>\n",
       "      <th>std</th>\n",
       "      <td>13.493725</td>\n",
       "      <td>1.278465</td>\n",
       "      <td>56.358207</td>\n",
       "    </tr>\n",
       "    <tr>\n",
       "      <th>min</th>\n",
       "      <td>1.000000</td>\n",
       "      <td>1.000000</td>\n",
       "      <td>2.000000</td>\n",
       "    </tr>\n",
       "    <tr>\n",
       "      <th>25%</th>\n",
       "      <td>8.000000</td>\n",
       "      <td>1.000000</td>\n",
       "      <td>34.000000</td>\n",
       "    </tr>\n",
       "    <tr>\n",
       "      <th>50%</th>\n",
       "      <td>13.000000</td>\n",
       "      <td>1.000000</td>\n",
       "      <td>52.000000</td>\n",
       "    </tr>\n",
       "    <tr>\n",
       "      <th>75%</th>\n",
       "      <td>22.000000</td>\n",
       "      <td>2.000000</td>\n",
       "      <td>90.000000</td>\n",
       "    </tr>\n",
       "    <tr>\n",
       "      <th>max</th>\n",
       "      <td>220.000000</td>\n",
       "      <td>28.000000</td>\n",
       "      <td>910.000000</td>\n",
       "    </tr>\n",
       "  </tbody>\n",
       "</table>\n",
       "</div>"
      ],
      "text/plain": [
       "          word_len     sent_len  character_len\n",
       "count  4516.000000  4516.000000    4516.000000\n",
       "mean     17.120903     1.799601      70.459256\n",
       "std      13.493725     1.278465      56.358207\n",
       "min       1.000000     1.000000       2.000000\n",
       "25%       8.000000     1.000000      34.000000\n",
       "50%      13.000000     1.000000      52.000000\n",
       "75%      22.000000     2.000000      90.000000\n",
       "max     220.000000    28.000000     910.000000"
      ]
     },
     "execution_count": 18,
     "metadata": {},
     "output_type": "execute_result"
    }
   ],
   "source": [
    "df[df['target'] == 0 ][['word_len','sent_len', 'character_len']].describe()\n",
    "\n",
    "#description of data for messages that are not spam\n"
   ]
  },
  {
   "cell_type": "code",
   "execution_count": 19,
   "id": "13f6dad8",
   "metadata": {
    "execution": {
     "iopub.execute_input": "2023-06-06T18:35:40.764408Z",
     "iopub.status.busy": "2023-06-06T18:35:40.763028Z",
     "iopub.status.idle": "2023-06-06T18:35:40.790860Z",
     "shell.execute_reply": "2023-06-06T18:35:40.789294Z"
    },
    "papermill": {
     "duration": 0.05022,
     "end_time": "2023-06-06T18:35:40.793509",
     "exception": false,
     "start_time": "2023-06-06T18:35:40.743289",
     "status": "completed"
    },
    "tags": []
   },
   "outputs": [
    {
     "data": {
      "text/html": [
       "<div>\n",
       "<style scoped>\n",
       "    .dataframe tbody tr th:only-of-type {\n",
       "        vertical-align: middle;\n",
       "    }\n",
       "\n",
       "    .dataframe tbody tr th {\n",
       "        vertical-align: top;\n",
       "    }\n",
       "\n",
       "    .dataframe thead th {\n",
       "        text-align: right;\n",
       "    }\n",
       "</style>\n",
       "<table border=\"1\" class=\"dataframe\">\n",
       "  <thead>\n",
       "    <tr style=\"text-align: right;\">\n",
       "      <th></th>\n",
       "      <th>word_len</th>\n",
       "      <th>sent_len</th>\n",
       "      <th>character_len</th>\n",
       "    </tr>\n",
       "  </thead>\n",
       "  <tbody>\n",
       "    <tr>\n",
       "      <th>count</th>\n",
       "      <td>653.000000</td>\n",
       "      <td>653.000000</td>\n",
       "      <td>653.000000</td>\n",
       "    </tr>\n",
       "    <tr>\n",
       "      <th>mean</th>\n",
       "      <td>27.667688</td>\n",
       "      <td>2.967841</td>\n",
       "      <td>137.891271</td>\n",
       "    </tr>\n",
       "    <tr>\n",
       "      <th>std</th>\n",
       "      <td>7.008418</td>\n",
       "      <td>1.483201</td>\n",
       "      <td>30.137753</td>\n",
       "    </tr>\n",
       "    <tr>\n",
       "      <th>min</th>\n",
       "      <td>2.000000</td>\n",
       "      <td>1.000000</td>\n",
       "      <td>13.000000</td>\n",
       "    </tr>\n",
       "    <tr>\n",
       "      <th>25%</th>\n",
       "      <td>25.000000</td>\n",
       "      <td>2.000000</td>\n",
       "      <td>132.000000</td>\n",
       "    </tr>\n",
       "    <tr>\n",
       "      <th>50%</th>\n",
       "      <td>29.000000</td>\n",
       "      <td>3.000000</td>\n",
       "      <td>149.000000</td>\n",
       "    </tr>\n",
       "    <tr>\n",
       "      <th>75%</th>\n",
       "      <td>32.000000</td>\n",
       "      <td>4.000000</td>\n",
       "      <td>157.000000</td>\n",
       "    </tr>\n",
       "    <tr>\n",
       "      <th>max</th>\n",
       "      <td>46.000000</td>\n",
       "      <td>8.000000</td>\n",
       "      <td>224.000000</td>\n",
       "    </tr>\n",
       "  </tbody>\n",
       "</table>\n",
       "</div>"
      ],
      "text/plain": [
       "         word_len    sent_len  character_len\n",
       "count  653.000000  653.000000     653.000000\n",
       "mean    27.667688    2.967841     137.891271\n",
       "std      7.008418    1.483201      30.137753\n",
       "min      2.000000    1.000000      13.000000\n",
       "25%     25.000000    2.000000     132.000000\n",
       "50%     29.000000    3.000000     149.000000\n",
       "75%     32.000000    4.000000     157.000000\n",
       "max     46.000000    8.000000     224.000000"
      ]
     },
     "execution_count": 19,
     "metadata": {},
     "output_type": "execute_result"
    }
   ],
   "source": [
    "df[df['target'] == 1 ][['word_len','sent_len', 'character_len']].describe()\n",
    "\n",
    "#description of data for messages that are spam\n"
   ]
  },
  {
   "cell_type": "markdown",
   "id": "258d931f",
   "metadata": {
    "papermill": {
     "duration": 0.018396,
     "end_time": "2023-06-06T18:35:40.830696",
     "exception": false,
     "start_time": "2023-06-06T18:35:40.812300",
     "status": "completed"
    },
    "tags": []
   },
   "source": [
    "the below graph represents word_len vs count for spam and not spam messages, lets represnt this using a histogram"
   ]
  },
  {
   "cell_type": "code",
   "execution_count": 20,
   "id": "32b317bc",
   "metadata": {
    "_kg_hide-input": true,
    "execution": {
     "iopub.execute_input": "2023-06-06T18:35:40.870353Z",
     "iopub.status.busy": "2023-06-06T18:35:40.869909Z",
     "iopub.status.idle": "2023-06-06T18:35:41.582383Z",
     "shell.execute_reply": "2023-06-06T18:35:41.581142Z"
    },
    "papermill": {
     "duration": 0.736866,
     "end_time": "2023-06-06T18:35:41.586286",
     "exception": false,
     "start_time": "2023-06-06T18:35:40.849420",
     "status": "completed"
    },
    "tags": []
   },
   "outputs": [
    {
     "data": {
      "image/png": "[encoded data removed]",
      "text/plain": [
       "<Figure size 864x432 with 1 Axes>"
      ]
     },
     "metadata": {
      "needs_background": "light"
     },
     "output_type": "display_data"
    }
   ],
   "source": [
    "plt.figure(figsize=(12,6))\n",
    "sns.histplot(data= df[df['target']==0], x=\"word_len\", color=\"green\", label=\"Not Spam\", kde=True)\n",
    "sns.histplot(data= df[df['target']==1], x=\"word_len\", color=\"red\", label=\"Spam\", kde=True)\n",
    "plt.legend() \n",
    "plt.show()"
   ]
  },
  {
   "cell_type": "markdown",
   "id": "d6c66bc2",
   "metadata": {
    "papermill": {
     "duration": 0.019452,
     "end_time": "2023-06-06T18:35:41.626085",
     "exception": false,
     "start_time": "2023-06-06T18:35:41.606633",
     "status": "completed"
    },
    "tags": []
   },
   "source": [
    "the below graph represents word_len vs count for spam and not spam messages"
   ]
  },
  {
   "cell_type": "code",
   "execution_count": 21,
   "id": "b71b88b3",
   "metadata": {
    "_kg_hide-input": true,
    "execution": {
     "iopub.execute_input": "2023-06-06T18:35:41.667186Z",
     "iopub.status.busy": "2023-06-06T18:35:41.666772Z",
     "iopub.status.idle": "2023-06-06T18:35:42.530537Z",
     "shell.execute_reply": "2023-06-06T18:35:42.529330Z"
    },
    "papermill": {
     "duration": 0.887579,
     "end_time": "2023-06-06T18:35:42.533207",
     "exception": false,
     "start_time": "2023-06-06T18:35:41.645628",
     "status": "completed"
    },
    "tags": []
   },
   "outputs": [
    {
     "data": {
      "image/png": "[encoded data removed]",
      "text/plain": [
       "<Figure size 864x432 with 1 Axes>"
      ]
     },
     "metadata": {
      "needs_background": "light"
     },
     "output_type": "display_data"
    }
   ],
   "source": [
    "plt.figure(figsize=(12,6))\n",
    "sns.histplot(data= df[df['target']==0], x=\"character_len\", color=\"green\", label=\"Not Spam\", kde=True)\n",
    "sns.histplot(data= df[df['target']==1], x=\"character_len\", color=\"red\", label=\"Spam\", kde=True)\n",
    "plt.legend() \n",
    "plt.show()"
   ]
  },
  {
   "cell_type": "markdown",
   "id": "ea611acf",
   "metadata": {
    "papermill": {
     "duration": 0.019528,
     "end_time": "2023-06-06T18:35:42.572726",
     "exception": false,
     "start_time": "2023-06-06T18:35:42.553198",
     "status": "completed"
    },
    "tags": []
   },
   "source": [
    "the above graph represents character_len vs count for spam and not spam messages"
   ]
  },
  {
   "cell_type": "code",
   "execution_count": 22,
   "id": "9c1f70d0",
   "metadata": {
    "execution": {
     "iopub.execute_input": "2023-06-06T18:35:42.614956Z",
     "iopub.status.busy": "2023-06-06T18:35:42.614503Z",
     "iopub.status.idle": "2023-06-06T18:35:47.177849Z",
     "shell.execute_reply": "2023-06-06T18:35:47.176701Z"
    },
    "papermill": {
     "duration": 4.588035,
     "end_time": "2023-06-06T18:35:47.181088",
     "exception": false,
     "start_time": "2023-06-06T18:35:42.593053",
     "status": "completed"
    },
    "tags": []
   },
   "outputs": [
    {
     "data": {
      "text/plain": [
       "<Figure size 864x432 with 0 Axes>"
      ]
     },
     "metadata": {},
     "output_type": "display_data"
    },
    {
     "data": {
      "image/png": "[encoded data removed]",
      "text/plain": [
       "<Figure size 582.375x540 with 12 Axes>"
      ]
     },
     "metadata": {
      "needs_background": "light"
     },
     "output_type": "display_data"
    }
   ],
   "source": [
    "plt.figure(figsize=(12,6))\n",
    "sns.pairplot(df, hue ='target')\n",
    "plt.legend() \n",
    "plt.show()"
   ]
  },
  {
   "cell_type": "markdown",
   "id": "dff35c0a",
   "metadata": {
    "papermill": {
     "duration": 0.021141,
     "end_time": "2023-06-06T18:35:47.224270",
     "exception": false,
     "start_time": "2023-06-06T18:35:47.203129",
     "status": "completed"
    },
    "tags": []
   },
   "source": [
    "here 0 is not spam and 1 is for spam, we conclude the data consists of outliers from the above graphs. The linear relation between characetr, words and sentences is also established"
   ]
  },
  {
   "cell_type": "code",
   "execution_count": 23,
   "id": "0a095fbc",
   "metadata": {
    "execution": {
     "iopub.execute_input": "2023-06-06T18:35:47.269154Z",
     "iopub.status.busy": "2023-06-06T18:35:47.268724Z",
     "iopub.status.idle": "2023-06-06T18:35:47.595033Z",
     "shell.execute_reply": "2023-06-06T18:35:47.593758Z"
    },
    "papermill": {
     "duration": 0.352299,
     "end_time": "2023-06-06T18:35:47.598116",
     "exception": false,
     "start_time": "2023-06-06T18:35:47.245817",
     "status": "completed"
    },
    "tags": []
   },
   "outputs": [
    {
     "data": {
      "image/png": "[encoded data removed]",
      "text/plain": [
       "<Figure size 864x432 with 2 Axes>"
      ]
     },
     "metadata": {
      "needs_background": "light"
     },
     "output_type": "display_data"
    }
   ],
   "source": [
    "plt.figure(figsize=(12,6))\n",
    "sns.heatmap(data=df.corr(),annot= True)\n",
    "plt.show()"
   ]
  },
  {
   "cell_type": "markdown",
   "id": "a6eacba9",
   "metadata": {
    "papermill": {
     "duration": 0.021028,
     "end_time": "2023-06-06T18:35:47.640528",
     "exception": false,
     "start_time": "2023-06-06T18:35:47.619500",
     "status": "completed"
    },
    "tags": []
   },
   "source": [
    "Due to high collinearity of all three columns, we should keep only one column for our model. We would go with character_len beacuse it has comparitively high correlation with the target column"
   ]
  },
  {
   "cell_type": "markdown",
   "id": "c6a4d581",
   "metadata": {
    "papermill": {
     "duration": 0.020872,
     "end_time": "2023-06-06T18:35:47.682570",
     "exception": false,
     "start_time": "2023-06-06T18:35:47.661698",
     "status": "completed"
    },
    "tags": []
   },
   "source": [
    "text preprocessing\n",
    "\n",
    "lower case --> tokenization --> removing special characters --> removing stop words and punctuations --> stemming "
   ]
  },
  {
   "cell_type": "code",
   "execution_count": 24,
   "id": "80992719",
   "metadata": {
    "execution": {
     "iopub.execute_input": "2023-06-06T18:35:47.727954Z",
     "iopub.status.busy": "2023-06-06T18:35:47.726646Z",
     "iopub.status.idle": "2023-06-06T18:35:47.749372Z",
     "shell.execute_reply": "2023-06-06T18:35:47.748504Z"
    },
    "papermill": {
     "duration": 0.048207,
     "end_time": "2023-06-06T18:35:47.751889",
     "exception": false,
     "start_time": "2023-06-06T18:35:47.703682",
     "status": "completed"
    },
    "tags": []
   },
   "outputs": [
    {
     "data": {
      "text/plain": [
       "'love yt lectur machin learn other'"
      ]
     },
     "execution_count": 24,
     "metadata": {},
     "output_type": "execute_result"
    }
   ],
   "source": [
    "#let's create a function were all steps of data processing would take place altogether\n",
    "\n",
    "def text_transform(text):\n",
    "    text = text.lower()\n",
    "    text = nltk.word_tokenize(text) #seprating each word\n",
    "    \n",
    "    l = []\n",
    "    for i in text:\n",
    "        if i.isalnum():\n",
    "            l.append(i) #considering only alphabets and numbers\n",
    "    \n",
    "    text = l[:]\n",
    "    l.clear()\n",
    "    for i in text:\n",
    "        if i not in stopwords.words('english') and i not in string.punctuation:\n",
    "            l.append(i)\n",
    "            \n",
    "    text = l[:]\n",
    "    l.clear()        \n",
    "    for i in text:\n",
    "        l.append(ps.stem(i)) #applied stemming i.e. reduncing word to its root form\n",
    "    \n",
    "    return \" \".join(l)\n",
    "\n",
    "#example of function text_transform\n",
    "text_transform('I love YT lectures on Machine Learning. How about You and others?')"
   ]
  },
  {
   "cell_type": "code",
   "execution_count": 25,
   "id": "07430382",
   "metadata": {
    "execution": {
     "iopub.execute_input": "2023-06-06T18:35:47.797400Z",
     "iopub.status.busy": "2023-06-06T18:35:47.796665Z",
     "iopub.status.idle": "2023-06-06T18:36:03.731806Z",
     "shell.execute_reply": "2023-06-06T18:36:03.730356Z"
    },
    "papermill": {
     "duration": 15.961241,
     "end_time": "2023-06-06T18:36:03.734792",
     "exception": false,
     "start_time": "2023-06-06T18:35:47.773551",
     "status": "completed"
    },
    "tags": []
   },
   "outputs": [
    {
     "data": {
      "text/html": [
       "<div>\n",
       "<style scoped>\n",
       "    .dataframe tbody tr th:only-of-type {\n",
       "        vertical-align: middle;\n",
       "    }\n",
       "\n",
       "    .dataframe tbody tr th {\n",
       "        vertical-align: top;\n",
       "    }\n",
       "\n",
       "    .dataframe thead th {\n",
       "        text-align: right;\n",
       "    }\n",
       "</style>\n",
       "<table border=\"1\" class=\"dataframe\">\n",
       "  <thead>\n",
       "    <tr style=\"text-align: right;\">\n",
       "      <th></th>\n",
       "      <th>target</th>\n",
       "      <th>sms</th>\n",
       "      <th>character_len</th>\n",
       "      <th>word_len</th>\n",
       "      <th>sent_len</th>\n",
       "      <th>transformed_text</th>\n",
       "    </tr>\n",
       "  </thead>\n",
       "  <tbody>\n",
       "    <tr>\n",
       "      <th>0</th>\n",
       "      <td>0</td>\n",
       "      <td>Go until jurong point, crazy.. Available only ...</td>\n",
       "      <td>111</td>\n",
       "      <td>24</td>\n",
       "      <td>2</td>\n",
       "      <td>go jurong point crazi avail bugi n great world...</td>\n",
       "    </tr>\n",
       "    <tr>\n",
       "      <th>1</th>\n",
       "      <td>0</td>\n",
       "      <td>Ok lar... Joking wif u oni...</td>\n",
       "      <td>29</td>\n",
       "      <td>8</td>\n",
       "      <td>2</td>\n",
       "      <td>ok lar joke wif u oni</td>\n",
       "    </tr>\n",
       "    <tr>\n",
       "      <th>2</th>\n",
       "      <td>1</td>\n",
       "      <td>Free entry in 2 a wkly comp to win FA Cup fina...</td>\n",
       "      <td>155</td>\n",
       "      <td>37</td>\n",
       "      <td>2</td>\n",
       "      <td>free entri 2 wkli comp win fa cup final tkt 21...</td>\n",
       "    </tr>\n",
       "    <tr>\n",
       "      <th>3</th>\n",
       "      <td>0</td>\n",
       "      <td>U dun say so early hor... U c already then say...</td>\n",
       "      <td>49</td>\n",
       "      <td>13</td>\n",
       "      <td>1</td>\n",
       "      <td>u dun say earli hor u c alreadi say</td>\n",
       "    </tr>\n",
       "    <tr>\n",
       "      <th>4</th>\n",
       "      <td>0</td>\n",
       "      <td>Nah I don't think he goes to usf, he lives aro...</td>\n",
       "      <td>61</td>\n",
       "      <td>15</td>\n",
       "      <td>1</td>\n",
       "      <td>nah think goe usf live around though</td>\n",
       "    </tr>\n",
       "  </tbody>\n",
       "</table>\n",
       "</div>"
      ],
      "text/plain": [
       "   target                                                sms  character_len  \\\n",
       "0       0  Go until jurong point, crazy.. Available only ...            111   \n",
       "1       0                      Ok lar... Joking wif u oni...             29   \n",
       "2       1  Free entry in 2 a wkly comp to win FA Cup fina...            155   \n",
       "3       0  U dun say so early hor... U c already then say...             49   \n",
       "4       0  Nah I don't think he goes to usf, he lives aro...             61   \n",
       "\n",
       "   word_len  sent_len                                   transformed_text  \n",
       "0        24         2  go jurong point crazi avail bugi n great world...  \n",
       "1         8         2                              ok lar joke wif u oni  \n",
       "2        37         2  free entri 2 wkli comp win fa cup final tkt 21...  \n",
       "3        13         1                u dun say earli hor u c alreadi say  \n",
       "4        15         1               nah think goe usf live around though  "
      ]
     },
     "execution_count": 25,
     "metadata": {},
     "output_type": "execute_result"
    }
   ],
   "source": [
    "#applying transformation to all text messages\n",
    "df['transformed_text']= df['sms'].apply(text_transform)\n",
    "df.head(5)"
   ]
  },
  {
   "cell_type": "code",
   "execution_count": 26,
   "id": "837db8f2",
   "metadata": {
    "execution": {
     "iopub.execute_input": "2023-06-06T18:36:03.781705Z",
     "iopub.status.busy": "2023-06-06T18:36:03.780976Z",
     "iopub.status.idle": "2023-06-06T18:36:03.791744Z",
     "shell.execute_reply": "2023-06-06T18:36:03.790835Z"
    },
    "papermill": {
     "duration": 0.037362,
     "end_time": "2023-06-06T18:36:03.794414",
     "exception": false,
     "start_time": "2023-06-06T18:36:03.757052",
     "status": "completed"
    },
    "tags": []
   },
   "outputs": [],
   "source": [
    "spam_corpus =[]\n",
    "for msg in df[df['target']==1]['transformed_text'].tolist():\n",
    "    for word in msg.split():\n",
    "        spam_corpus.append(word)"
   ]
  },
  {
   "cell_type": "code",
   "execution_count": 27,
   "id": "7d238e31",
   "metadata": {
    "_kg_hide-input": true,
    "execution": {
     "iopub.execute_input": "2023-06-06T18:36:03.841284Z",
     "iopub.status.busy": "2023-06-06T18:36:03.840590Z",
     "iopub.status.idle": "2023-06-06T18:36:04.277995Z",
     "shell.execute_reply": "2023-06-06T18:36:04.276708Z"
    },
    "papermill": {
     "duration": 0.464096,
     "end_time": "2023-06-06T18:36:04.280653",
     "exception": false,
     "start_time": "2023-06-06T18:36:03.816557",
     "status": "completed"
    },
    "tags": []
   },
   "outputs": [
    {
     "name": "stderr",
     "output_type": "stream",
     "text": [
      "/opt/conda/lib/python3.7/site-packages/seaborn/_decorators.py:43: FutureWarning: Pass the following variables as keyword args: x, y. From version 0.12, the only valid positional argument will be `data`, and passing other arguments without an explicit keyword will result in an error or misinterpretation.\n",
      "  FutureWarning\n"
     ]
    },
    {
     "data": {
      "image/png": "[encoded data removed]",
      "text/plain": [
       "<Figure size 864x432 with 1 Axes>"
      ]
     },
     "metadata": {
      "needs_background": "light"
     },
     "output_type": "display_data"
    }
   ],
   "source": [
    "#this will get us the most common words in spam messages\n",
    "plt.figure(figsize=(12,6))\n",
    "sns.barplot(pd.DataFrame(Counter(spam_corpus).most_common(30))[0],pd.DataFrame(Counter(spam_corpus).most_common(30))[1])\n",
    "plt.xticks(rotation = 'vertical')\n",
    "plt.show()"
   ]
  },
  {
   "cell_type": "markdown",
   "id": "bd7d122d",
   "metadata": {
    "papermill": {
     "duration": 0.022128,
     "end_time": "2023-06-06T18:36:04.325438",
     "exception": false,
     "start_time": "2023-06-06T18:36:04.303310",
     "status": "completed"
    },
    "tags": []
   },
   "source": [
    "This is the graph representing highest 30 used words in spam messages\n"
   ]
  },
  {
   "cell_type": "code",
   "execution_count": 28,
   "id": "947d0c81",
   "metadata": {
    "_kg_hide-input": true,
    "execution": {
     "iopub.execute_input": "2023-06-06T18:36:04.372713Z",
     "iopub.status.busy": "2023-06-06T18:36:04.372158Z",
     "iopub.status.idle": "2023-06-06T18:36:04.827820Z",
     "shell.execute_reply": "2023-06-06T18:36:04.826595Z"
    },
    "papermill": {
     "duration": 0.482136,
     "end_time": "2023-06-06T18:36:04.830309",
     "exception": false,
     "start_time": "2023-06-06T18:36:04.348173",
     "status": "completed"
    },
    "tags": []
   },
   "outputs": [
    {
     "name": "stderr",
     "output_type": "stream",
     "text": [
      "/opt/conda/lib/python3.7/site-packages/seaborn/_decorators.py:43: FutureWarning: Pass the following variables as keyword args: x, y. From version 0.12, the only valid positional argument will be `data`, and passing other arguments without an explicit keyword will result in an error or misinterpretation.\n",
      "  FutureWarning\n"
     ]
    },
    {
     "data": {
      "image/png": "[encoded data removed]",
      "text/plain": [
       "<Figure size 864x432 with 1 Axes>"
      ]
     },
     "metadata": {
      "needs_background": "light"
     },
     "output_type": "display_data"
    }
   ],
   "source": [
    "ham_corpus =[]\n",
    "for msg in df[df['target']== 0]['transformed_text'].tolist():\n",
    "    for word in msg.split():\n",
    "        spam_corpus.append(word)\n",
    "plt.figure(figsize=(12,6))\n",
    "sns.barplot(pd.DataFrame(Counter(spam_corpus).most_common(30))[0],pd.DataFrame(Counter(spam_corpus).most_common(30))[1])\n",
    "plt.xticks(rotation = 'vertical')\n",
    "plt.show()"
   ]
  },
  {
   "cell_type": "markdown",
   "id": "bcc7e3ea",
   "metadata": {
    "papermill": {
     "duration": 0.022571,
     "end_time": "2023-06-06T18:36:04.875784",
     "exception": false,
     "start_time": "2023-06-06T18:36:04.853213",
     "status": "completed"
    },
    "tags": []
   },
   "source": [
    "This is the graph representing highest 30 used words in normal messages"
   ]
  },
  {
   "cell_type": "markdown",
   "id": "feb2f74c",
   "metadata": {
    "papermill": {
     "duration": 0.022715,
     "end_time": "2023-06-06T18:36:04.921529",
     "exception": false,
     "start_time": "2023-06-06T18:36:04.898814",
     "status": "completed"
    },
    "tags": []
   },
   "source": [
    "Model Building"
   ]
  },
  {
   "cell_type": "code",
   "execution_count": 29,
   "id": "f9a3d620",
   "metadata": {
    "execution": {
     "iopub.execute_input": "2023-06-06T18:36:04.969952Z",
     "iopub.status.busy": "2023-06-06T18:36:04.968829Z",
     "iopub.status.idle": "2023-06-06T18:36:04.974121Z",
     "shell.execute_reply": "2023-06-06T18:36:04.973247Z"
    },
    "papermill": {
     "duration": 0.032303,
     "end_time": "2023-06-06T18:36:04.976601",
     "exception": false,
     "start_time": "2023-06-06T18:36:04.944298",
     "status": "completed"
    },
    "tags": []
   },
   "outputs": [],
   "source": [
    "gnb = GaussianNB()\n",
    "mnb = MultinomialNB()\n",
    "bnb = BernoulliNB()"
   ]
  },
  {
   "cell_type": "markdown",
   "id": "8f0bcf05",
   "metadata": {
    "papermill": {
     "duration": 0.022569,
     "end_time": "2023-06-06T18:36:05.022087",
     "exception": false,
     "start_time": "2023-06-06T18:36:04.999518",
     "status": "completed"
    },
    "tags": []
   },
   "source": [
    "performance matrices\n",
    "\n",
    "* Accuracy is a metric used in classification problems used to tell the percentage of accurate predictions\n",
    "\n",
    "* Confusion Matrix: It is a matrix of size 2×2 for binary classification with actual values on one axis and predicted on another.\n",
    "![](https://miro.medium.com/max/872/1*UsOWxGhFMhkfkFZivPFlpQ.png)\n",
    "\n",
    "* The precision is the ratio tp / (tp + fp) where tp is the number of true positives and fp the number of false positives. The precision is intuitively the ability of the classifier not to label as positive a sample that is negative. The best value is 1 and the worst value is 0."
   ]
  },
  {
   "cell_type": "code",
   "execution_count": 30,
   "id": "5aaab5c0",
   "metadata": {
    "execution": {
     "iopub.execute_input": "2023-06-06T18:36:05.070418Z",
     "iopub.status.busy": "2023-06-06T18:36:05.069519Z",
     "iopub.status.idle": "2023-06-06T18:36:06.862591Z",
     "shell.execute_reply": "2023-06-06T18:36:06.860882Z"
    },
    "papermill": {
     "duration": 1.822334,
     "end_time": "2023-06-06T18:36:06.867397",
     "exception": false,
     "start_time": "2023-06-06T18:36:05.045063",
     "status": "completed"
    },
    "tags": []
   },
   "outputs": [
    {
     "name": "stdout",
     "output_type": "stream",
     "text": [
      "Shape of X (5169, 6708) & Shape of y (5169,) \n",
      "\n",
      "\n",
      "Performace Metrices for GaussianNB\n",
      "Accuracy  is : 0.8800773694390716\n",
      "Confusion Matrix :\n",
      " [[792 104]\n",
      " [ 20 118]]\n",
      "Precision score is : 0.5315315315315315\n",
      "\n",
      "\n",
      "\n",
      "Performace Metrices for MultinomialNB\n",
      "Accuracy  is : 0.9642166344294004\n",
      "Confusion Matrix :\n",
      " [[871  25]\n",
      " [ 12 126]]\n",
      "Precision score is : 0.8344370860927153\n",
      "\n",
      "\n",
      "\n",
      "Performace Metrices for BernoulliNB\n",
      "Accuracy  is : 0.9700193423597679\n",
      "Confusion Matrix :\n",
      " [[893   3]\n",
      " [ 28 110]]\n",
      "Precision score is : 0.9734513274336283\n",
      "\n",
      "\n",
      "\n"
     ]
    }
   ],
   "source": [
    "# first with Countvectorizer\n",
    "X = cv.fit_transform(df['transformed_text']).toarray()\n",
    "y = df['target'].values\n",
    "print(\"Shape of X\", X.shape, '& Shape of y', y.shape, '\\n\\n')\n",
    "\n",
    "X_train, X_test, y_train, y_test = train_test_split(X, y, test_size=0.2, random_state=2)\n",
    "\n",
    "print('Performace Metrices for GaussianNB')\n",
    "gnb.fit(X_train,y_train)\n",
    "y_pred_gnb = gnb.predict(X_test)\n",
    "print('Accuracy  is :',accuracy_score(y_test, y_pred_gnb))\n",
    "print('Confusion Matrix :\\n',confusion_matrix(y_test, y_pred_gnb))\n",
    "print('Precision score is :',precision_score(y_test, y_pred_gnb))\n",
    "print('\\n\\n')\n",
    "\n",
    "print('Performace Metrices for MultinomialNB')\n",
    "mnb.fit(X_train,y_train)\n",
    "y_pred_mnb = mnb.predict(X_test)\n",
    "print('Accuracy  is :',accuracy_score(y_test, y_pred_mnb))\n",
    "print('Confusion Matrix :\\n',confusion_matrix(y_test, y_pred_mnb))\n",
    "print('Precision score is :',precision_score(y_test, y_pred_mnb))\n",
    "print('\\n\\n')\n",
    "\n",
    "print('Performace Metrices for BernoulliNB')\n",
    "bnb.fit(X_train,y_train)\n",
    "y_pred_bnb = bnb.predict(X_test)\n",
    "print('Accuracy  is :',accuracy_score(y_test, y_pred_bnb))\n",
    "print('Confusion Matrix :\\n',confusion_matrix(y_test, y_pred_bnb))\n",
    "print('Precision score is :',precision_score(y_test, y_pred_bnb))\n",
    "print('\\n\\n')"
   ]
  },
  {
   "cell_type": "code",
   "execution_count": 31,
   "id": "c66e5528",
   "metadata": {
    "execution": {
     "iopub.execute_input": "2023-06-06T18:36:06.969430Z",
     "iopub.status.busy": "2023-06-06T18:36:06.968693Z",
     "iopub.status.idle": "2023-06-06T18:36:07.734884Z",
     "shell.execute_reply": "2023-06-06T18:36:07.733201Z"
    },
    "papermill": {
     "duration": 0.822308,
     "end_time": "2023-06-06T18:36:07.739304",
     "exception": false,
     "start_time": "2023-06-06T18:36:06.916996",
     "status": "completed"
    },
    "tags": []
   },
   "outputs": [
    {
     "name": "stdout",
     "output_type": "stream",
     "text": [
      "Shape of X (5169, 3000) & Shape of y (5169,) \n",
      "\n",
      "\n",
      "Performace Metrices for GaussianNB\n",
      "Accuracy  is : 0.8694390715667312\n",
      "Confusion Matrix :\n",
      " [[788 108]\n",
      " [ 27 111]]\n",
      "Precision score is : 0.5068493150684932\n",
      "\n",
      "\n",
      "\n",
      "Performace Metrices for MultinomialNB\n",
      "Accuracy  is : 0.9709864603481625\n",
      "Confusion Matrix :\n",
      " [[896   0]\n",
      " [ 30 108]]\n",
      "Precision score is : 1.0\n",
      "\n",
      "\n",
      "\n",
      "Performace Metrices for BernoulliNB\n",
      "Accuracy  is : 0.9835589941972921\n",
      "Confusion Matrix :\n",
      " [[895   1]\n",
      " [ 16 122]]\n",
      "Precision score is : 0.991869918699187\n",
      "\n",
      "\n",
      "\n"
     ]
    }
   ],
   "source": [
    "# with TfidfVectorizer\n",
    "X = tfidf.fit_transform(df['transformed_text']).toarray()\n",
    "y = df['target'].values\n",
    "print(\"Shape of X\", X.shape, '& Shape of y', y.shape, '\\n\\n')\n",
    "\n",
    "X_train, X_test, y_train, y_test = train_test_split(X, y, test_size=0.2, random_state=2)\n",
    "\n",
    "print('Performace Metrices for GaussianNB')\n",
    "gnb.fit(X_train,y_train)\n",
    "y_pred_gnb = gnb.predict(X_test)\n",
    "print('Accuracy  is :',accuracy_score(y_test, y_pred_gnb))\n",
    "print('Confusion Matrix :\\n',confusion_matrix(y_test, y_pred_gnb))\n",
    "print('Precision score is :',precision_score(y_test, y_pred_gnb))\n",
    "print('\\n\\n')\n",
    "\n",
    "print('Performace Metrices for MultinomialNB')\n",
    "mnb.fit(X_train,y_train)\n",
    "y_pred_mnb = mnb.predict(X_test)\n",
    "print('Accuracy  is :',accuracy_score(y_test, y_pred_mnb))\n",
    "print('Confusion Matrix :\\n',confusion_matrix(y_test, y_pred_mnb))\n",
    "print('Precision score is :',precision_score(y_test, y_pred_mnb))\n",
    "print('\\n\\n')\n",
    "\n",
    "print('Performace Metrices for BernoulliNB')\n",
    "bnb.fit(X_train,y_train)\n",
    "y_pred_bnb = bnb.predict(X_test)\n",
    "print('Accuracy  is :',accuracy_score(y_test, y_pred_bnb))\n",
    "print('Confusion Matrix :\\n',confusion_matrix(y_test, y_pred_bnb))\n",
    "print('Precision score is :',precision_score(y_test, y_pred_bnb))\n",
    "print('\\n\\n')"
   ]
  },
  {
   "cell_type": "markdown",
   "id": "5bed5e1b",
   "metadata": {
    "papermill": {
     "duration": 0.050108,
     "end_time": "2023-06-06T18:36:07.839183",
     "exception": false,
     "start_time": "2023-06-06T18:36:07.789075",
     "status": "completed"
    },
    "tags": []
   },
   "source": [
    "Now let's try other ML models, since we are going to try so many models we would define a function to iterate each model on our dataset"
   ]
  },
  {
   "cell_type": "code",
   "execution_count": 32,
   "id": "e62b53aa",
   "metadata": {
    "execution": {
     "iopub.execute_input": "2023-06-06T18:36:07.891677Z",
     "iopub.status.busy": "2023-06-06T18:36:07.891234Z",
     "iopub.status.idle": "2023-06-06T18:36:08.084232Z",
     "shell.execute_reply": "2023-06-06T18:36:08.083360Z"
    },
    "papermill": {
     "duration": 0.220518,
     "end_time": "2023-06-06T18:36:08.086587",
     "exception": false,
     "start_time": "2023-06-06T18:36:07.866069",
     "status": "completed"
    },
    "tags": []
   },
   "outputs": [
    {
     "data": {
      "text/plain": [
       "(5169, 3001)"
      ]
     },
     "execution_count": 32,
     "metadata": {},
     "output_type": "execute_result"
    }
   ],
   "source": [
    "scaler = MinMaxScaler()\n",
    "X = scaler.fit_transform(X)\n",
    "\n",
    "X = np.hstack((X, df['character_len'].values.reshape(-1,1)))\n",
    "X.shape"
   ]
  },
  {
   "cell_type": "code",
   "execution_count": 33,
   "id": "3cbc0fa8",
   "metadata": {
    "_kg_hide-input": true,
    "execution": {
     "iopub.execute_input": "2023-06-06T18:36:08.136477Z",
     "iopub.status.busy": "2023-06-06T18:36:08.135566Z",
     "iopub.status.idle": "2023-06-06T18:36:08.241588Z",
     "shell.execute_reply": "2023-06-06T18:36:08.240516Z"
    },
    "papermill": {
     "duration": 0.134235,
     "end_time": "2023-06-06T18:36:08.244518",
     "exception": false,
     "start_time": "2023-06-06T18:36:08.110283",
     "status": "completed"
    },
    "tags": []
   },
   "outputs": [],
   "source": [
    "#these are some of the most imp and used classification models we are going to compare\n",
    "from sklearn.linear_model import LogisticRegression\n",
    "from sklearn.svm import SVC\n",
    "from sklearn.naive_bayes import MultinomialNB\n",
    "from sklearn.tree import DecisionTreeClassifier\n",
    "from sklearn.neighbors import KNeighborsClassifier\n",
    "from sklearn.ensemble import RandomForestClassifier\n",
    "from sklearn.ensemble import AdaBoostClassifier\n",
    "from sklearn.ensemble import BaggingClassifier\n",
    "from sklearn.ensemble import ExtraTreesClassifier\n",
    "from sklearn.ensemble import GradientBoostingClassifier\n",
    "from xgboost import XGBClassifier"
   ]
  },
  {
   "cell_type": "code",
   "execution_count": 34,
   "id": "c7fc0825",
   "metadata": {
    "_kg_hide-input": true,
    "execution": {
     "iopub.execute_input": "2023-06-06T18:36:08.295215Z",
     "iopub.status.busy": "2023-06-06T18:36:08.294431Z",
     "iopub.status.idle": "2023-06-06T18:36:08.305134Z",
     "shell.execute_reply": "2023-06-06T18:36:08.303898Z"
    },
    "papermill": {
     "duration": 0.039175,
     "end_time": "2023-06-06T18:36:08.307996",
     "exception": false,
     "start_time": "2023-06-06T18:36:08.268821",
     "status": "completed"
    },
    "tags": []
   },
   "outputs": [],
   "source": [
    "svc = SVC(kernel='sigmoid', gamma=1.0)\n",
    "knc = KNeighborsClassifier()\n",
    "mnb = MultinomialNB()\n",
    "dtc = DecisionTreeClassifier(max_depth=5)\n",
    "lrc = LogisticRegression(solver='liblinear', penalty='l1')\n",
    "rfc = RandomForestClassifier(n_estimators=50, random_state=2)\n",
    "abc = AdaBoostClassifier(n_estimators=50, random_state=2)\n",
    "bc = BaggingClassifier(n_estimators=50, random_state=2)\n",
    "etc = ExtraTreesClassifier(n_estimators=50, random_state=2)\n",
    "gbdt = GradientBoostingClassifier(n_estimators=50,random_state=2)\n",
    "xgb = XGBClassifier(n_estimators=50,random_state=2)\n",
    "\n",
    "#defining key value pairs\n",
    "models = {\n",
    "    'SVC' : svc,\n",
    "    'KN' : knc, \n",
    "    'NB': mnb, \n",
    "    'DT': dtc, \n",
    "    'LR': lrc, \n",
    "    'RF': rfc, \n",
    "    'AdaBoost': abc, \n",
    "    'BgC': bc, \n",
    "    'ETC': etc,\n",
    "    'GBDT':gbdt,\n",
    "    'xgb':xgb\n",
    "}"
   ]
  },
  {
   "cell_type": "code",
   "execution_count": 35,
   "id": "f4e3d1f4",
   "metadata": {
    "execution": {
     "iopub.execute_input": "2023-06-06T18:36:08.358220Z",
     "iopub.status.busy": "2023-06-06T18:36:08.357777Z",
     "iopub.status.idle": "2023-06-06T18:38:12.650624Z",
     "shell.execute_reply": "2023-06-06T18:38:12.649413Z"
    },
    "papermill": {
     "duration": 124.320948,
     "end_time": "2023-06-06T18:38:12.653090",
     "exception": false,
     "start_time": "2023-06-06T18:36:08.332142",
     "status": "completed"
    },
    "tags": []
   },
   "outputs": [
    {
     "name": "stdout",
     "output_type": "stream",
     "text": [
      "For  SVC\n",
      "Accuracy -  0.9758220502901354\n",
      "Precision -  0.9747899159663865\n",
      "For  KN\n",
      "Accuracy -  0.9052224371373307\n",
      "Precision -  1.0\n",
      "For  NB\n",
      "Accuracy -  0.9709864603481625\n",
      "Precision -  1.0\n",
      "For  DT\n",
      "Accuracy -  0.9294003868471954\n",
      "Precision -  0.8282828282828283\n",
      "For  LR\n",
      "Accuracy -  0.9584139264990329\n",
      "Precision -  0.9702970297029703\n",
      "For  RF\n",
      "Accuracy -  0.9748549323017408\n",
      "Precision -  0.9827586206896551\n",
      "For  AdaBoost\n",
      "Accuracy -  0.960348162475822\n",
      "Precision -  0.9292035398230089\n",
      "For  BgC\n",
      "Accuracy -  0.9574468085106383\n",
      "Precision -  0.8671875\n",
      "For  ETC\n",
      "Accuracy -  0.9748549323017408\n",
      "Precision -  0.9745762711864406\n",
      "For  GBDT\n",
      "Accuracy -  0.9477756286266924\n",
      "Precision -  0.92\n",
      "For  xgb\n",
      "Accuracy -  0.971953578336557\n",
      "Precision -  0.943089430894309\n"
     ]
    }
   ],
   "source": [
    "accuracy_scores = []\n",
    "precision_scores = []\n",
    "\n",
    "def classifier_models(models,X_train,y_train,X_test,y_test):\n",
    "    clf.fit(X_train,y_train)\n",
    "    y_pred = clf.predict(X_test)\n",
    "    accuracy = accuracy_score(y_test,y_pred)\n",
    "    precision = precision_score(y_test,y_pred)\n",
    "    \n",
    "    return accuracy,precision\n",
    "\n",
    "for name,clf in models.items():\n",
    "    \n",
    "    current_accuracy,current_precision = classifier_models(clf, X_train,y_train,X_test,y_test)\n",
    "    \n",
    "    print(\"For \",name)\n",
    "    print(\"Accuracy - \",current_accuracy)\n",
    "    print(\"Precision - \",current_precision)\n",
    "    \n",
    "    accuracy_scores.append(current_accuracy)\n",
    "    precision_scores.append(current_precision)"
   ]
  },
  {
   "cell_type": "code",
   "execution_count": 36,
   "id": "15eb8212",
   "metadata": {
    "execution": {
     "iopub.execute_input": "2023-06-06T18:38:12.704529Z",
     "iopub.status.busy": "2023-06-06T18:38:12.704114Z",
     "iopub.status.idle": "2023-06-06T18:38:12.726102Z",
     "shell.execute_reply": "2023-06-06T18:38:12.724816Z"
    },
    "papermill": {
     "duration": 0.050059,
     "end_time": "2023-06-06T18:38:12.728882",
     "exception": false,
     "start_time": "2023-06-06T18:38:12.678823",
     "status": "completed"
    },
    "tags": []
   },
   "outputs": [],
   "source": [
    "#there is no much improvement even after using Votingclassifier or stacking the top three algorithmns\n",
    "#based on accuracy and precision scores we have decided our model as mnb\n",
    "#saving our tfidf--> mnb model \n",
    "\n",
    "pickle.dump(tfidf,open('vectorizer.pkl','wb'))\n",
    "pickle.dump(mnb,open('model.pkl','wb'))"
   ]
  }
 ],
 "metadata": {
  "kernelspec": {
   "display_name": "Python 3",
   "language": "python",
   "name": "python3"
  },
  "language_info": {
   "codemirror_mode": {
    "name": "ipython",
    "version": 3
   },
   "file_extension": ".py",
   "mimetype": "text/x-python",
   "name": "python",
   "nbconvert_exporter": "python",
   "pygments_lexer": "ipython3",
   "version": "3.7.12"
  },
  "papermill": {
   "default_parameters": {},
   "duration": 169.795843,
   "end_time": "2023-06-06T18:38:13.676129",
   "environment_variables": {},
   "exception": null,
   "input_path": "__notebook__.ipynb",
   "output_path": "__notebook__.ipynb",
   "parameters": {},
   "start_time": "2023-06-06T18:35:23.880286",
   "version": "2.3.4"
  }
 },
 "nbformat": 4,
 "nbformat_minor": 5
}
